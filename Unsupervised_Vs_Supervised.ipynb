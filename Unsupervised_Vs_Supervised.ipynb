{
  "nbformat": 4,
  "nbformat_minor": 0,
  "metadata": {
    "colab": {
      "name": "Unsupervised_Vs_Supervised.ipynb",
      "provenance": [],
      "authorship_tag": "ABX9TyOE4S/LEsuscBmP2I+e6PoH",
      "include_colab_link": true
    },
    "kernelspec": {
      "name": "python3",
      "display_name": "Python 3"
    }
  },
  "cells": [
    {
      "cell_type": "markdown",
      "metadata": {
        "id": "view-in-github",
        "colab_type": "text"
      },
      "source": [
        "<a href=\"https://colab.research.google.com/github/cody-little/Unsupervised-Learning-for-Feature-Engineering/blob/master/Unsupervised_Vs_Supervised.ipynb\" target=\"_parent\"><img src=\"https://colab.research.google.com/assets/colab-badge.svg\" alt=\"Open In Colab\"/></a>"
      ]
    },
    {
      "cell_type": "markdown",
      "metadata": {
        "id": "MN818AabxMSx",
        "colab_type": "text"
      },
      "source": [
        "# Unsupervised Learning: A Comparitive Analysis of How to Evaluate Clusters and Then Use them as Features in a Supervised Task"
      ]
    },
    {
      "cell_type": "markdown",
      "metadata": {
        "id": "stJ8c1ycxYRz",
        "colab_type": "text"
      },
      "source": [
        "### Summary\n",
        "This is a machine learning project that seeks to classify wine quality through a multiclass prediction method. The overall goal is to compare outcomes using a feature space that includes an unsupervised feature in the form of a k-means clustering algorithim label to an original feature space utilizing a grid search and 5 fold cross validated single decision tree model. Below is a breakdown of how this is done\n",
        "\n",
        "* Load data, and explore it\n",
        "* Create an unsupervised feature label through optimizing the number of clusters with a k-means algorithim, evaluating the number of clusters through multiple modicums of metrics\n",
        "* Develop an optimal single decision tree using a grid search cross validation technique for each feature space (one including a cluster feature, and one without)\n",
        "* Report Results Across Multiple Metrics\n"
      ]
    },
    {
      "cell_type": "markdown",
      "metadata": {
        "id": "UZ7LYd3qxbAi",
        "colab_type": "text"
      },
      "source": [
        "### Load and Prepare Data and Libraries"
      ]
    },
    {
      "cell_type": "code",
      "metadata": {
        "id": "kzsFfCUPxegM",
        "colab_type": "code",
        "colab": {
          "base_uri": "https://localhost:8080/",
          "height": 326
        },
        "outputId": "aa7d87b4-2977-421f-c60f-d2a0b5af219b"
      },
      "source": [
        "!wget --no-check-certificate 'https://docs.google.com/uc?export=download&id=1DYKawQxmzHYUpj0j6RMzjl4d6ZdSwXMy' -O wine.csv"
      ],
      "execution_count": 1,
      "outputs": [
        {
          "output_type": "stream",
          "text": [
            "--2020-07-31 17:03:20--  https://docs.google.com/uc?export=download&id=1DYKawQxmzHYUpj0j6RMzjl4d6ZdSwXMy\n",
            "Resolving docs.google.com (docs.google.com)... 172.217.218.101, 172.217.218.102, 172.217.218.139, ...\n",
            "Connecting to docs.google.com (docs.google.com)|172.217.218.101|:443... connected.\n",
            "HTTP request sent, awaiting response... 302 Moved Temporarily\n",
            "Location: https://doc-0s-bs-docs.googleusercontent.com/docs/securesc/ha0ro937gcuc7l7deffksulhg5h7mbp1/hl538i9von86an3daiokms0au9ftj07a/1596214950000/05129054582585331303/*/1DYKawQxmzHYUpj0j6RMzjl4d6ZdSwXMy?e=download [following]\n",
            "Warning: wildcards not supported in HTTP.\n",
            "--2020-07-31 17:03:20--  https://doc-0s-bs-docs.googleusercontent.com/docs/securesc/ha0ro937gcuc7l7deffksulhg5h7mbp1/hl538i9von86an3daiokms0au9ftj07a/1596214950000/05129054582585331303/*/1DYKawQxmzHYUpj0j6RMzjl4d6ZdSwXMy?e=download\n",
            "Resolving doc-0s-bs-docs.googleusercontent.com (doc-0s-bs-docs.googleusercontent.com)... 108.177.126.132, 2a00:1450:4013:c01::84\n",
            "Connecting to doc-0s-bs-docs.googleusercontent.com (doc-0s-bs-docs.googleusercontent.com)|108.177.126.132|:443... connected.\n",
            "HTTP request sent, awaiting response... 200 OK\n",
            "Length: 85743 (84K) [text/csv]\n",
            "Saving to: ‘wine.csv’\n",
            "\n",
            "wine.csv            100%[===================>]  83.73K  --.-KB/s    in 0.001s  \n",
            "\n",
            "2020-07-31 17:03:21 (116 MB/s) - ‘wine.csv’ saved [85743/85743]\n",
            "\n"
          ],
          "name": "stdout"
        }
      ]
    },
    {
      "cell_type": "code",
      "metadata": {
        "id": "ufoUfn11yOFl",
        "colab_type": "code",
        "colab": {
          "base_uri": "https://localhost:8080/",
          "height": 71
        },
        "outputId": "7a5a109f-8a93-4efd-85a6-9fc57eacbe75"
      },
      "source": [
        "#Load all libraries#\n",
        "from sklearn.preprocessing import MinMaxScaler\n",
        "from sklearn.cluster import KMeans\n",
        "import math\n",
        "import pandas as pd\n",
        "import numpy as np\n",
        "import statsmodels.formula.api as smf\n",
        "import matplotlib.pyplot as plt\n",
        "from scipy import stats\n",
        "from matplotlib import dates\n",
        "from datetime import datetime\n",
        "from sklearn.model_selection import GridSearchCV\n",
        "from sklearn.metrics import make_scorer\n",
        "import re\n",
        "import calendar\n",
        "import json\n",
        "import seaborn as sns\n",
        "from sklearn.metrics import accuracy_score, precision_score, recall_score, cohen_kappa_score, confusion_matrix, f1_score, ConfusionMatrixDisplay\n",
        "from sklearn.tree import DecisionTreeClassifier\n",
        "from sklearn.ensemble import RandomForestClassifier, BaggingClassifier, ExtraTreesClassifier, AdaBoostClassifier, GradientBoostingClassifier, VotingClassifier\n",
        "from sklearn.neighbors import KNeighborsClassifier\n",
        "from sklearn import tree\n",
        "from sklearn.model_selection import train_test_split, KFold, StratifiedKFold"
      ],
      "execution_count": 2,
      "outputs": [
        {
          "output_type": "stream",
          "text": [
            "/usr/local/lib/python3.6/dist-packages/statsmodels/tools/_testing.py:19: FutureWarning: pandas.util.testing is deprecated. Use the functions in the public API at pandas.testing instead.\n",
            "  import pandas.util.testing as tm\n"
          ],
          "name": "stderr"
        }
      ]
    },
    {
      "cell_type": "code",
      "metadata": {
        "id": "Z87yPZevyxK8",
        "colab_type": "code",
        "colab": {
          "base_uri": "https://localhost:8080/",
          "height": 436
        },
        "outputId": "6c9e4068-cbf3-4c5c-bbdd-8dd595b949ae"
      },
      "source": [
        "wine = pd.read_csv('wine.csv')\n",
        "wine"
      ],
      "execution_count": 3,
      "outputs": [
        {
          "output_type": "execute_result",
          "data": {
            "text/html": [
              "<div>\n",
              "<style scoped>\n",
              "    .dataframe tbody tr th:only-of-type {\n",
              "        vertical-align: middle;\n",
              "    }\n",
              "\n",
              "    .dataframe tbody tr th {\n",
              "        vertical-align: top;\n",
              "    }\n",
              "\n",
              "    .dataframe thead th {\n",
              "        text-align: right;\n",
              "    }\n",
              "</style>\n",
              "<table border=\"1\" class=\"dataframe\">\n",
              "  <thead>\n",
              "    <tr style=\"text-align: right;\">\n",
              "      <th></th>\n",
              "      <th>fixed acidity</th>\n",
              "      <th>volatile acidity</th>\n",
              "      <th>citric acid</th>\n",
              "      <th>residual sugar</th>\n",
              "      <th>chlorides</th>\n",
              "      <th>free sulfur dioxide</th>\n",
              "      <th>total sulfur dioxide</th>\n",
              "      <th>density</th>\n",
              "      <th>pH</th>\n",
              "      <th>sulphates</th>\n",
              "      <th>alcohol</th>\n",
              "      <th>quality</th>\n",
              "    </tr>\n",
              "  </thead>\n",
              "  <tbody>\n",
              "    <tr>\n",
              "      <th>0</th>\n",
              "      <td>7.4</td>\n",
              "      <td>0.700</td>\n",
              "      <td>0.00</td>\n",
              "      <td>1.9</td>\n",
              "      <td>0.076</td>\n",
              "      <td>11.0</td>\n",
              "      <td>34.0</td>\n",
              "      <td>0.99780</td>\n",
              "      <td>3.51</td>\n",
              "      <td>0.56</td>\n",
              "      <td>9.4</td>\n",
              "      <td>5</td>\n",
              "    </tr>\n",
              "    <tr>\n",
              "      <th>1</th>\n",
              "      <td>7.8</td>\n",
              "      <td>0.880</td>\n",
              "      <td>0.00</td>\n",
              "      <td>2.6</td>\n",
              "      <td>0.098</td>\n",
              "      <td>25.0</td>\n",
              "      <td>67.0</td>\n",
              "      <td>0.99680</td>\n",
              "      <td>3.20</td>\n",
              "      <td>0.68</td>\n",
              "      <td>9.8</td>\n",
              "      <td>5</td>\n",
              "    </tr>\n",
              "    <tr>\n",
              "      <th>2</th>\n",
              "      <td>7.8</td>\n",
              "      <td>0.760</td>\n",
              "      <td>0.04</td>\n",
              "      <td>2.3</td>\n",
              "      <td>0.092</td>\n",
              "      <td>15.0</td>\n",
              "      <td>54.0</td>\n",
              "      <td>0.99700</td>\n",
              "      <td>3.26</td>\n",
              "      <td>0.65</td>\n",
              "      <td>9.8</td>\n",
              "      <td>5</td>\n",
              "    </tr>\n",
              "    <tr>\n",
              "      <th>3</th>\n",
              "      <td>11.2</td>\n",
              "      <td>0.280</td>\n",
              "      <td>0.56</td>\n",
              "      <td>1.9</td>\n",
              "      <td>0.075</td>\n",
              "      <td>17.0</td>\n",
              "      <td>60.0</td>\n",
              "      <td>0.99800</td>\n",
              "      <td>3.16</td>\n",
              "      <td>0.58</td>\n",
              "      <td>9.8</td>\n",
              "      <td>6</td>\n",
              "    </tr>\n",
              "    <tr>\n",
              "      <th>4</th>\n",
              "      <td>7.4</td>\n",
              "      <td>0.700</td>\n",
              "      <td>0.00</td>\n",
              "      <td>1.9</td>\n",
              "      <td>0.076</td>\n",
              "      <td>11.0</td>\n",
              "      <td>34.0</td>\n",
              "      <td>0.99780</td>\n",
              "      <td>3.51</td>\n",
              "      <td>0.56</td>\n",
              "      <td>9.4</td>\n",
              "      <td>5</td>\n",
              "    </tr>\n",
              "    <tr>\n",
              "      <th>...</th>\n",
              "      <td>...</td>\n",
              "      <td>...</td>\n",
              "      <td>...</td>\n",
              "      <td>...</td>\n",
              "      <td>...</td>\n",
              "      <td>...</td>\n",
              "      <td>...</td>\n",
              "      <td>...</td>\n",
              "      <td>...</td>\n",
              "      <td>...</td>\n",
              "      <td>...</td>\n",
              "      <td>...</td>\n",
              "    </tr>\n",
              "    <tr>\n",
              "      <th>1594</th>\n",
              "      <td>6.2</td>\n",
              "      <td>0.600</td>\n",
              "      <td>0.08</td>\n",
              "      <td>2.0</td>\n",
              "      <td>0.090</td>\n",
              "      <td>32.0</td>\n",
              "      <td>44.0</td>\n",
              "      <td>0.99490</td>\n",
              "      <td>3.45</td>\n",
              "      <td>0.58</td>\n",
              "      <td>10.5</td>\n",
              "      <td>5</td>\n",
              "    </tr>\n",
              "    <tr>\n",
              "      <th>1595</th>\n",
              "      <td>5.9</td>\n",
              "      <td>0.550</td>\n",
              "      <td>0.10</td>\n",
              "      <td>2.2</td>\n",
              "      <td>0.062</td>\n",
              "      <td>39.0</td>\n",
              "      <td>51.0</td>\n",
              "      <td>0.99512</td>\n",
              "      <td>3.52</td>\n",
              "      <td>0.76</td>\n",
              "      <td>11.2</td>\n",
              "      <td>6</td>\n",
              "    </tr>\n",
              "    <tr>\n",
              "      <th>1596</th>\n",
              "      <td>6.3</td>\n",
              "      <td>0.510</td>\n",
              "      <td>0.13</td>\n",
              "      <td>2.3</td>\n",
              "      <td>0.076</td>\n",
              "      <td>29.0</td>\n",
              "      <td>40.0</td>\n",
              "      <td>0.99574</td>\n",
              "      <td>3.42</td>\n",
              "      <td>0.75</td>\n",
              "      <td>11.0</td>\n",
              "      <td>6</td>\n",
              "    </tr>\n",
              "    <tr>\n",
              "      <th>1597</th>\n",
              "      <td>5.9</td>\n",
              "      <td>0.645</td>\n",
              "      <td>0.12</td>\n",
              "      <td>2.0</td>\n",
              "      <td>0.075</td>\n",
              "      <td>32.0</td>\n",
              "      <td>44.0</td>\n",
              "      <td>0.99547</td>\n",
              "      <td>3.57</td>\n",
              "      <td>0.71</td>\n",
              "      <td>10.2</td>\n",
              "      <td>5</td>\n",
              "    </tr>\n",
              "    <tr>\n",
              "      <th>1598</th>\n",
              "      <td>6.0</td>\n",
              "      <td>0.310</td>\n",
              "      <td>0.47</td>\n",
              "      <td>3.6</td>\n",
              "      <td>0.067</td>\n",
              "      <td>18.0</td>\n",
              "      <td>42.0</td>\n",
              "      <td>0.99549</td>\n",
              "      <td>3.39</td>\n",
              "      <td>0.66</td>\n",
              "      <td>11.0</td>\n",
              "      <td>6</td>\n",
              "    </tr>\n",
              "  </tbody>\n",
              "</table>\n",
              "<p>1599 rows × 12 columns</p>\n",
              "</div>"
            ],
            "text/plain": [
              "      fixed acidity  volatile acidity  citric acid  ...  sulphates  alcohol  quality\n",
              "0               7.4             0.700         0.00  ...       0.56      9.4        5\n",
              "1               7.8             0.880         0.00  ...       0.68      9.8        5\n",
              "2               7.8             0.760         0.04  ...       0.65      9.8        5\n",
              "3              11.2             0.280         0.56  ...       0.58      9.8        6\n",
              "4               7.4             0.700         0.00  ...       0.56      9.4        5\n",
              "...             ...               ...          ...  ...        ...      ...      ...\n",
              "1594            6.2             0.600         0.08  ...       0.58     10.5        5\n",
              "1595            5.9             0.550         0.10  ...       0.76     11.2        6\n",
              "1596            6.3             0.510         0.13  ...       0.75     11.0        6\n",
              "1597            5.9             0.645         0.12  ...       0.71     10.2        5\n",
              "1598            6.0             0.310         0.47  ...       0.66     11.0        6\n",
              "\n",
              "[1599 rows x 12 columns]"
            ]
          },
          "metadata": {
            "tags": []
          },
          "execution_count": 3
        }
      ]
    },
    {
      "cell_type": "markdown",
      "metadata": {
        "id": "VpKmFtapzDPZ",
        "colab_type": "text"
      },
      "source": [
        "### Exploratory Data Analysis "
      ]
    },
    {
      "cell_type": "markdown",
      "metadata": {
        "id": "8GTUToQ5ivuJ",
        "colab_type": "text"
      },
      "source": [
        "This is a brief exploratory analysis where I look at the overall distribution of the variables in this data set to get a better understanding of what relates to wine quality.\n",
        "\n",
        "Using a table we can understand all of the variables vary wildly associated to the ways in which they are measured. This will be important to rememeber later if we want to use a k-means algorithim because if the variables making up our dimensions are on different scales we wont get the best results."
      ]
    },
    {
      "cell_type": "code",
      "metadata": {
        "id": "syFayFwmzGpx",
        "colab_type": "code",
        "colab": {
          "base_uri": "https://localhost:8080/",
          "height": 421
        },
        "outputId": "8fc3cae7-f395-46c6-f387-10fee1567a11"
      },
      "source": [
        "#Basic description of data since it is all numeric#\n",
        "wine.describe().T"
      ],
      "execution_count": 4,
      "outputs": [
        {
          "output_type": "execute_result",
          "data": {
            "text/html": [
              "<div>\n",
              "<style scoped>\n",
              "    .dataframe tbody tr th:only-of-type {\n",
              "        vertical-align: middle;\n",
              "    }\n",
              "\n",
              "    .dataframe tbody tr th {\n",
              "        vertical-align: top;\n",
              "    }\n",
              "\n",
              "    .dataframe thead th {\n",
              "        text-align: right;\n",
              "    }\n",
              "</style>\n",
              "<table border=\"1\" class=\"dataframe\">\n",
              "  <thead>\n",
              "    <tr style=\"text-align: right;\">\n",
              "      <th></th>\n",
              "      <th>count</th>\n",
              "      <th>mean</th>\n",
              "      <th>std</th>\n",
              "      <th>min</th>\n",
              "      <th>25%</th>\n",
              "      <th>50%</th>\n",
              "      <th>75%</th>\n",
              "      <th>max</th>\n",
              "    </tr>\n",
              "  </thead>\n",
              "  <tbody>\n",
              "    <tr>\n",
              "      <th>fixed acidity</th>\n",
              "      <td>1599.0</td>\n",
              "      <td>8.319637</td>\n",
              "      <td>1.741096</td>\n",
              "      <td>4.60000</td>\n",
              "      <td>7.1000</td>\n",
              "      <td>7.90000</td>\n",
              "      <td>9.200000</td>\n",
              "      <td>15.90000</td>\n",
              "    </tr>\n",
              "    <tr>\n",
              "      <th>volatile acidity</th>\n",
              "      <td>1599.0</td>\n",
              "      <td>0.527821</td>\n",
              "      <td>0.179060</td>\n",
              "      <td>0.12000</td>\n",
              "      <td>0.3900</td>\n",
              "      <td>0.52000</td>\n",
              "      <td>0.640000</td>\n",
              "      <td>1.58000</td>\n",
              "    </tr>\n",
              "    <tr>\n",
              "      <th>citric acid</th>\n",
              "      <td>1599.0</td>\n",
              "      <td>0.270976</td>\n",
              "      <td>0.194801</td>\n",
              "      <td>0.00000</td>\n",
              "      <td>0.0900</td>\n",
              "      <td>0.26000</td>\n",
              "      <td>0.420000</td>\n",
              "      <td>1.00000</td>\n",
              "    </tr>\n",
              "    <tr>\n",
              "      <th>residual sugar</th>\n",
              "      <td>1599.0</td>\n",
              "      <td>2.538806</td>\n",
              "      <td>1.409928</td>\n",
              "      <td>0.90000</td>\n",
              "      <td>1.9000</td>\n",
              "      <td>2.20000</td>\n",
              "      <td>2.600000</td>\n",
              "      <td>15.50000</td>\n",
              "    </tr>\n",
              "    <tr>\n",
              "      <th>chlorides</th>\n",
              "      <td>1599.0</td>\n",
              "      <td>0.087467</td>\n",
              "      <td>0.047065</td>\n",
              "      <td>0.01200</td>\n",
              "      <td>0.0700</td>\n",
              "      <td>0.07900</td>\n",
              "      <td>0.090000</td>\n",
              "      <td>0.61100</td>\n",
              "    </tr>\n",
              "    <tr>\n",
              "      <th>free sulfur dioxide</th>\n",
              "      <td>1599.0</td>\n",
              "      <td>15.874922</td>\n",
              "      <td>10.460157</td>\n",
              "      <td>1.00000</td>\n",
              "      <td>7.0000</td>\n",
              "      <td>14.00000</td>\n",
              "      <td>21.000000</td>\n",
              "      <td>72.00000</td>\n",
              "    </tr>\n",
              "    <tr>\n",
              "      <th>total sulfur dioxide</th>\n",
              "      <td>1599.0</td>\n",
              "      <td>46.467792</td>\n",
              "      <td>32.895324</td>\n",
              "      <td>6.00000</td>\n",
              "      <td>22.0000</td>\n",
              "      <td>38.00000</td>\n",
              "      <td>62.000000</td>\n",
              "      <td>289.00000</td>\n",
              "    </tr>\n",
              "    <tr>\n",
              "      <th>density</th>\n",
              "      <td>1599.0</td>\n",
              "      <td>0.996747</td>\n",
              "      <td>0.001887</td>\n",
              "      <td>0.99007</td>\n",
              "      <td>0.9956</td>\n",
              "      <td>0.99675</td>\n",
              "      <td>0.997835</td>\n",
              "      <td>1.00369</td>\n",
              "    </tr>\n",
              "    <tr>\n",
              "      <th>pH</th>\n",
              "      <td>1599.0</td>\n",
              "      <td>3.311113</td>\n",
              "      <td>0.154386</td>\n",
              "      <td>2.74000</td>\n",
              "      <td>3.2100</td>\n",
              "      <td>3.31000</td>\n",
              "      <td>3.400000</td>\n",
              "      <td>4.01000</td>\n",
              "    </tr>\n",
              "    <tr>\n",
              "      <th>sulphates</th>\n",
              "      <td>1599.0</td>\n",
              "      <td>0.658149</td>\n",
              "      <td>0.169507</td>\n",
              "      <td>0.33000</td>\n",
              "      <td>0.5500</td>\n",
              "      <td>0.62000</td>\n",
              "      <td>0.730000</td>\n",
              "      <td>2.00000</td>\n",
              "    </tr>\n",
              "    <tr>\n",
              "      <th>alcohol</th>\n",
              "      <td>1599.0</td>\n",
              "      <td>10.422983</td>\n",
              "      <td>1.065668</td>\n",
              "      <td>8.40000</td>\n",
              "      <td>9.5000</td>\n",
              "      <td>10.20000</td>\n",
              "      <td>11.100000</td>\n",
              "      <td>14.90000</td>\n",
              "    </tr>\n",
              "    <tr>\n",
              "      <th>quality</th>\n",
              "      <td>1599.0</td>\n",
              "      <td>5.636023</td>\n",
              "      <td>0.807569</td>\n",
              "      <td>3.00000</td>\n",
              "      <td>5.0000</td>\n",
              "      <td>6.00000</td>\n",
              "      <td>6.000000</td>\n",
              "      <td>8.00000</td>\n",
              "    </tr>\n",
              "  </tbody>\n",
              "</table>\n",
              "</div>"
            ],
            "text/plain": [
              "                       count       mean  ...        75%        max\n",
              "fixed acidity         1599.0   8.319637  ...   9.200000   15.90000\n",
              "volatile acidity      1599.0   0.527821  ...   0.640000    1.58000\n",
              "citric acid           1599.0   0.270976  ...   0.420000    1.00000\n",
              "residual sugar        1599.0   2.538806  ...   2.600000   15.50000\n",
              "chlorides             1599.0   0.087467  ...   0.090000    0.61100\n",
              "free sulfur dioxide   1599.0  15.874922  ...  21.000000   72.00000\n",
              "total sulfur dioxide  1599.0  46.467792  ...  62.000000  289.00000\n",
              "density               1599.0   0.996747  ...   0.997835    1.00369\n",
              "pH                    1599.0   3.311113  ...   3.400000    4.01000\n",
              "sulphates             1599.0   0.658149  ...   0.730000    2.00000\n",
              "alcohol               1599.0  10.422983  ...  11.100000   14.90000\n",
              "quality               1599.0   5.636023  ...   6.000000    8.00000\n",
              "\n",
              "[12 rows x 8 columns]"
            ]
          },
          "metadata": {
            "tags": []
          },
          "execution_count": 4
        }
      ]
    },
    {
      "cell_type": "code",
      "metadata": {
        "id": "QDArMpPY6vEL",
        "colab_type": "code",
        "colab": {
          "base_uri": "https://localhost:8080/",
          "height": 136
        },
        "outputId": "577a146b-8faf-4ce9-b601-a54ede336b37"
      },
      "source": [
        "#Check how many quality scores there are#\n",
        "print(wine['quality'].value_counts())"
      ],
      "execution_count": 5,
      "outputs": [
        {
          "output_type": "stream",
          "text": [
            "5    681\n",
            "6    638\n",
            "7    199\n",
            "4     53\n",
            "8     18\n",
            "3     10\n",
            "Name: quality, dtype: int64\n"
          ],
          "name": "stdout"
        }
      ]
    },
    {
      "cell_type": "code",
      "metadata": {
        "id": "FRWRHL1Qz6kD",
        "colab_type": "code",
        "colab": {
          "base_uri": "https://localhost:8080/",
          "height": 479
        },
        "outputId": "119be73a-ee20-43ab-c7e6-f52e29ed3ece"
      },
      "source": [
        "#Generate a Correlation Plot#\n",
        "plt.figure(figsize= (6, 6))\n",
        "sns.heatmap(wine.corr())"
      ],
      "execution_count": 6,
      "outputs": [
        {
          "output_type": "execute_result",
          "data": {
            "text/plain": [
              "<matplotlib.axes._subplots.AxesSubplot at 0x7f12cbc11860>"
            ]
          },
          "metadata": {
            "tags": []
          },
          "execution_count": 6
        },
        {
          "output_type": "display_data",
          "data": {
            "image/png": "[encoded data removed]",
            "text/plain": [
              "<Figure size 432x432 with 2 Axes>"
            ]
          },
          "metadata": {
            "tags": [],
            "needs_background": "light"
          }
        }
      ]
    },
    {
      "cell_type": "code",
      "metadata": {
        "id": "wEIJtsv92tnx",
        "colab_type": "code",
        "colab": {
          "base_uri": "https://localhost:8080/",
          "height": 404
        },
        "outputId": "9e0cd18b-c653-4025-f495-ebd32a2a155d"
      },
      "source": [
        "plt.figure(figsize=(12,6))\n",
        "ax =sns.scatterplot(x=\"alcohol\", y=\"density\",\n",
        "              hue=\"quality\",\n",
        "              data=wine).set_title('Alcohol and Density Relationship to Quality')"
      ],
      "execution_count": 7,
      "outputs": [
        {
          "output_type": "display_data",
          "data": {
            "image/png": "[encoded data removed]",
            "text/plain": [
              "<Figure size 864x432 with 1 Axes>"
            ]
          },
          "metadata": {
            "tags": [],
            "needs_background": "light"
          }
        }
      ]
    },
    {
      "cell_type": "markdown",
      "metadata": {
        "id": "y4_F7JvU5vRW",
        "colab_type": "text"
      },
      "source": [
        "### Prepare Data for Method Comparison"
      ]
    },
    {
      "cell_type": "markdown",
      "metadata": {
        "id": "bAsgaK_y5zDY",
        "colab_type": "text"
      },
      "source": [
        "This cell normalizes the data within our wine data set. Since they are all numeric we need to account for varying distributions within the data. Using sklearns min/max scaler we can normalize all of the data so it only ranges from 0-1."
      ]
    },
    {
      "cell_type": "code",
      "metadata": {
        "id": "VRVF4h8K5zPs",
        "colab_type": "code",
        "colab": {}
      },
      "source": [
        "## Here we make unsupervised clusters of the data set\n",
        "scaler = MinMaxScaler()\n",
        "\n",
        "wine_norm = wine.drop(['quality'], axis = 1)\n",
        "columnnames = wine_norm.columns\n",
        "wine_norm = pd.DataFrame(scaler.fit_transform(wine_norm))\n",
        "wine_norm.columns = columnnames"
      ],
      "execution_count": 8,
      "outputs": []
    },
    {
      "cell_type": "markdown",
      "metadata": {
        "id": "5q66v0BKEZJK",
        "colab_type": "text"
      },
      "source": [
        "### First Method of Comparing Clusters: Human Judgement"
      ]
    },
    {
      "cell_type": "markdown",
      "metadata": {
        "id": "U0x8Pc2hjdrZ",
        "colab_type": "text"
      },
      "source": [
        "This next cell may seem long but it enables me to understand what the model is doing and how the k-means algorithim is deciding the clusters. Essentially I create a function that will take the mean of each feature within every cluster and print it. I can also change the number of clusters to evaluate and see how the percentage of data points within each cluster changes. Along with this I can create 2 dimensional scatter plots and assign the color to the cluster id within these unsupervised labels, that allows me to visually see how the clusters are seperated.\n",
        "\n",
        "Using this method of human judgement I can watch as the means for each feature change depending to their relative importance to the number of clusters. While this method can provide strong insight it also can be very misleading if you don't take a decent amount of time to go through and understand the ways in which each mean changes reflecting a variation in the number of clusters. When all said and done this provides a very subjective view for the researcher to understand the ideal number of clusters. "
      ]
    },
    {
      "cell_type": "code",
      "metadata": {
        "id": "JpsGkCIo86NT",
        "colab_type": "code",
        "colab": {
          "base_uri": "https://localhost:8080/",
          "height": 1000
        },
        "outputId": "3f4c0872-25fb-414b-d378-f8c88682908f"
      },
      "source": [
        "from sklearn.cluster import KMeans\n",
        "\n",
        "def describe_cluster(cluster_instances): \n",
        "  fixed_acidity = cluster_instances[\"fixed acidity\"].mean()\n",
        "  volatile_acidity = cluster_instances['volatile acidity'].mean()\n",
        "  citric_acid = cluster_instances['citric acid'].mean()\n",
        "  residual_sugar = cluster_instances['residual sugar'].mean()\n",
        "  chlorides = cluster_instances['chlorides'].mean()\n",
        "  free_sulfur_dioxide = cluster_instances['free sulfur dioxide'].mean()\n",
        "  total_sulfur = cluster_instances['total sulfur dioxide'].mean()\n",
        "  density = cluster_instances['density'].mean()\n",
        "  pH = cluster_instances['pH'].mean()\n",
        "  sulphates = cluster_instances['sulphates'].mean()\n",
        "  alcohol = cluster_instances['alcohol'].mean()\n",
        "  print(f'Fixed acidity mean {fixed_acidity:.2f}')\n",
        "  print(f'Volatile Acidity Mean {volatile_acidity:.2f}')\n",
        "  print(f'Citric Acid mean {citric_acid:.2f}')\n",
        "  print(f'Residual Sugar mean {residual_sugar:.2f}')\n",
        "  print(f'Chlorides mean {chlorides:.2f}')\n",
        "  print(f'Free Sulfur mean {free_sulfur_dioxide:.2f}')\n",
        "  print(f'Total Sulfur mean {total_sulfur:.2f}')\n",
        "  print(f'Density mean {density:.2f}')\n",
        "  print(f'pH value mean {pH:.2f}')\n",
        "  print(f'Sulphates mean {sulphates:.2f}')\n",
        "  print(f'Alcohol mean {alcohol:.2f}')\n",
        "\n",
        "\n",
        "\n",
        "\n",
        "for k in range(2,5):\n",
        "  print(f\"Cluster Statistics for k = {k}\")\n",
        "\n",
        "  learner = KMeans(n_clusters=k)\n",
        "  clusters = learner.fit(wine_norm)\n",
        "\n",
        "\n",
        "\n",
        "  wine_norm[\"cluster\"] = clusters.labels_\n",
        "  for cluster_id in wine_norm[\"cluster\"].unique():\n",
        "        print(f\"Cluster {cluster_id}\")\n",
        "        cluster_instances = wine_norm.loc[wine_norm.cluster == cluster_id]\n",
        "        print(f\"  {100*len(cluster_instances)/len(wine_norm):.1f}% of data.\")\n",
        "        describe_cluster(cluster_instances)\n",
        "\n",
        "  print(f\"-_-_-_-_-_-_-_-_-_-_-_-_-_-_\")"
      ],
      "execution_count": 9,
      "outputs": [
        {
          "output_type": "stream",
          "text": [
            "Cluster Statistics for k = 2\n",
            "Cluster 1\n",
            "  58.7% of data.\n",
            "Fixed acidity mean 0.24\n",
            "Volatile Acidity Mean 0.33\n",
            "Citric Acid mean 0.14\n",
            "Residual Sugar mean 0.10\n",
            "Chlorides mean 0.12\n",
            "Free Sulfur mean 0.22\n",
            "Total Sulfur mean 0.15\n",
            "Density mean 0.45\n",
            "pH value mean 0.50\n",
            "Sulphates mean 0.16\n",
            "Alcohol mean 0.29\n",
            "Cluster 0\n",
            "  41.3% of data.\n",
            "Fixed acidity mean 0.45\n",
            "Volatile Acidity Mean 0.20\n",
            "Citric Acid mean 0.46\n",
            "Residual Sugar mean 0.13\n",
            "Chlorides mean 0.14\n",
            "Free Sulfur mean 0.19\n",
            "Total Sulfur mean 0.13\n",
            "Density mean 0.55\n",
            "pH value mean 0.38\n",
            "Sulphates mean 0.24\n",
            "Alcohol mean 0.34\n",
            "-_-_-_-_-_-_-_-_-_-_-_-_-_-_\n",
            "Cluster Statistics for k = 3\n",
            "Cluster 0\n",
            "  40.7% of data.\n",
            "Fixed acidity mean 0.27\n",
            "Volatile Acidity Mean 0.33\n",
            "Citric Acid mean 0.15\n",
            "Residual Sugar mean 0.10\n",
            "Chlorides mean 0.12\n",
            "Free Sulfur mean 0.23\n",
            "Total Sulfur mean 0.17\n",
            "Density mean 0.50\n",
            "pH value mean 0.47\n",
            "Sulphates mean 0.16\n",
            "Alcohol mean 0.21\n",
            "Cluster 1\n",
            "  41.3% of data.\n",
            "Fixed acidity mean 0.45\n",
            "Volatile Acidity Mean 0.20\n",
            "Citric Acid mean 0.46\n",
            "Residual Sugar mean 0.13\n",
            "Chlorides mean 0.14\n",
            "Free Sulfur mean 0.19\n",
            "Total Sulfur mean 0.13\n",
            "Density mean 0.55\n",
            "pH value mean 0.38\n",
            "Sulphates mean 0.24\n",
            "Alcohol mean 0.34\n",
            "Cluster 2\n",
            "  18.0% of data.\n",
            "Fixed acidity mean 0.18\n",
            "Volatile Acidity Mean 0.34\n",
            "Citric Acid mean 0.10\n",
            "Residual Sugar mean 0.10\n",
            "Chlorides mean 0.10\n",
            "Free Sulfur mean 0.21\n",
            "Total Sulfur mean 0.11\n",
            "Density mean 0.34\n",
            "pH value mean 0.57\n",
            "Sulphates mean 0.17\n",
            "Alcohol mean 0.47\n",
            "-_-_-_-_-_-_-_-_-_-_-_-_-_-_\n",
            "Cluster Statistics for k = 4\n",
            "Cluster 1\n",
            "  40.7% of data.\n",
            "Fixed acidity mean 0.27\n",
            "Volatile Acidity Mean 0.33\n",
            "Citric Acid mean 0.15\n",
            "Residual Sugar mean 0.10\n",
            "Chlorides mean 0.12\n",
            "Free Sulfur mean 0.23\n",
            "Total Sulfur mean 0.17\n",
            "Density mean 0.50\n",
            "pH value mean 0.47\n",
            "Sulphates mean 0.16\n",
            "Alcohol mean 0.21\n",
            "Cluster 3\n",
            "  23.6% of data.\n",
            "Fixed acidity mean 0.51\n",
            "Volatile Acidity Mean 0.23\n",
            "Citric Acid mean 0.47\n",
            "Residual Sugar mean 0.13\n",
            "Chlorides mean 0.16\n",
            "Free Sulfur mean 0.20\n",
            "Total Sulfur mean 0.15\n",
            "Density mean 0.64\n",
            "pH value mean 0.35\n",
            "Sulphates mean 0.25\n",
            "Alcohol mean 0.24\n",
            "Cluster 0\n",
            "  17.7% of data.\n",
            "Fixed acidity mean 0.38\n",
            "Volatile Acidity Mean 0.16\n",
            "Citric Acid mean 0.45\n",
            "Residual Sugar mean 0.12\n",
            "Chlorides mean 0.11\n",
            "Free Sulfur mean 0.18\n",
            "Total Sulfur mean 0.10\n",
            "Density mean 0.43\n",
            "pH value mean 0.42\n",
            "Sulphates mean 0.24\n",
            "Alcohol mean 0.48\n",
            "Cluster 2\n",
            "  18.0% of data.\n",
            "Fixed acidity mean 0.18\n",
            "Volatile Acidity Mean 0.34\n",
            "Citric Acid mean 0.10\n",
            "Residual Sugar mean 0.10\n",
            "Chlorides mean 0.10\n",
            "Free Sulfur mean 0.21\n",
            "Total Sulfur mean 0.11\n",
            "Density mean 0.34\n",
            "pH value mean 0.57\n",
            "Sulphates mean 0.17\n",
            "Alcohol mean 0.47\n",
            "-_-_-_-_-_-_-_-_-_-_-_-_-_-_\n"
          ],
          "name": "stdout"
        }
      ]
    },
    {
      "cell_type": "code",
      "metadata": {
        "id": "k1B_XXDNDtKd",
        "colab_type": "code",
        "colab": {
          "base_uri": "https://localhost:8080/",
          "height": 265
        },
        "outputId": "7dd8a368-4533-435f-9e32-ed02c5ba8f96"
      },
      "source": [
        "#If we want we can look at how the clusters change\n",
        "plt.scatter(wine_norm[\"density\"], wine_norm['alcohol'], c = wine_norm[\"cluster\"], cmap = \"rainbow\")\n",
        "plt.show()"
      ],
      "execution_count": 10,
      "outputs": [
        {
          "output_type": "display_data",
          "data": {
            "image/png": "[encoded data removed]",
            "text/plain": [
              "<Figure size 432x288 with 1 Axes>"
            ]
          },
          "metadata": {
            "tags": [],
            "needs_background": "light"
          }
        }
      ]
    },
    {
      "cell_type": "markdown",
      "metadata": {
        "id": "MUEXJxoQElS3",
        "colab_type": "text"
      },
      "source": [
        "### Second Method of Comparing Clusters: Silouhette Score"
      ]
    },
    {
      "cell_type": "code",
      "metadata": {
        "id": "VU_Y37F6Er_U",
        "colab_type": "code",
        "colab": {
          "base_uri": "https://localhost:8080/",
          "height": 170
        },
        "outputId": "649637b6-c518-4baf-8189-0a2b2a718900"
      },
      "source": [
        "from sklearn.metrics import silhouette_score as silly\n",
        "\n",
        "sils = []\n",
        "\n",
        "\n",
        "for i in range(2,11):\n",
        "  learner = KMeans(n_clusters=i, random_state=500)\n",
        "  clusters = learner.fit(wine_norm)\n",
        "  wine_norm[\"cluster\"] = clusters.labels_\n",
        "  silouhette = silly(wine_norm, wine_norm[\"cluster\"])\n",
        "  sils.append(silouhette)\n",
        "\n",
        "  print(f\"K = {i}, silouette = {silouhette: .3f} \")"
      ],
      "execution_count": 11,
      "outputs": [
        {
          "output_type": "stream",
          "text": [
            "K = 2, silouette =  0.517 \n",
            "K = 3, silouette =  0.567 \n",
            "K = 4, silouette =  0.612 \n",
            "K = 5, silouette =  0.638 \n",
            "K = 6, silouette =  0.641 \n",
            "K = 7, silouette =  0.646 \n",
            "K = 8, silouette =  0.661 \n",
            "K = 9, silouette =  0.665 \n",
            "K = 10, silouette =  0.669 \n"
          ],
          "name": "stdout"
        }
      ]
    },
    {
      "cell_type": "markdown",
      "metadata": {
        "id": "ORypK-y6Fz-p",
        "colab_type": "text"
      },
      "source": [
        "**Cluster Decision**\n",
        "Below we make the final clusters we want to use for the next task. Given the previous two methods of evaluating the clusters I have chosen to go with 9 cluster labels to use as features within the supervised learning task. I chose this because of what I saw within the human judgement analysis in the ways that the means for each vairbale changed within the clusters and the silhouette scores that the 9 cluster Kmeans achieved. I chose 9 rather than ten because a .03 difference within the score coeffecient is marginal and increasing the clusters beyond 9 does not bring a lot of inherent value."
      ]
    },
    {
      "cell_type": "code",
      "metadata": {
        "id": "-fY4xtQ-Flhl",
        "colab_type": "code",
        "colab": {}
      },
      "source": [
        "final_learner = KMeans(n_clusters=9)\n",
        "final_learner_clusters = final_learner.fit(wine_norm)\n",
        "wine_norm[\"cluster\"] = final_learner_clusters.labels_"
      ],
      "execution_count": 12,
      "outputs": []
    },
    {
      "cell_type": "markdown",
      "metadata": {
        "id": "cu0b0ADEE9_w",
        "colab_type": "text"
      },
      "source": [
        "## Using the Clusters as Features"
      ]
    },
    {
      "cell_type": "markdown",
      "metadata": {
        "id": "D3R6A8hTFFkS",
        "colab_type": "text"
      },
      "source": [
        "The next few cells get into the gritty data manipulation and building in order to make the required splits for the models to be fit on a grid search. A couple imporntant things to remember for anyone looking through the code:\n",
        "\n",
        "* There are two different training sets, they are almost identical, the only difference is the train set for clusters includes the cluster label given during the previous unsupervised learning portion of this project\n",
        "*  Because of this extra cluster I use two different grid searches on the Decision Tree Algorithim (I'm almost positive sklearn uses CART if anyones interested in that level of detail), I cross validate aross 5 folds because 100/5 = 20 and 20% of the original sized data set is the size of the test set they will be evaluated on. I look across a few different hyperperamters; splitting criterion, depth of the tree, the number of features, and the mode of splitting. \n",
        "* I chose to change the metric from accuracy to cohen's kappa score. I am a big fan of that metric when validating models because it takes into account the base probability of selection. This helps create hyperperamter optimization that generalizes better to future data for predictions.\n",
        "\n",
        "* This is still a **6 way** classification task with a heavily unbalanced data set. Achieving reasonably succesful metrics on such a task is difficult due to problem definition, but the point of this project isn't to show how successful a decision tree is at classifying wine quality. It is to understand how an unsupervised learning label as a feature effects performance."
      ]
    },
    {
      "cell_type": "code",
      "metadata": {
        "id": "x5Qvg8tCFF0x",
        "colab_type": "code",
        "colab": {
          "base_uri": "https://localhost:8080/",
          "height": 187
        },
        "outputId": "c4173ec9-2ecc-4fa1-f6da-199a12dd7d7e"
      },
      "source": [
        "wine['cluster'] = wine_norm['cluster']\n",
        "wine['cluster'].value_counts()"
      ],
      "execution_count": 13,
      "outputs": [
        {
          "output_type": "execute_result",
          "data": {
            "text/plain": [
              "2    237\n",
              "6    227\n",
              "5    208\n",
              "0    194\n",
              "1    193\n",
              "3    178\n",
              "7    172\n",
              "4    110\n",
              "8     80\n",
              "Name: cluster, dtype: int64"
            ]
          },
          "metadata": {
            "tags": []
          },
          "execution_count": 13
        }
      ]
    },
    {
      "cell_type": "code",
      "metadata": {
        "id": "A-nmP42tJm2_",
        "colab_type": "code",
        "colab": {
          "base_uri": "https://localhost:8080/",
          "height": 436
        },
        "outputId": "e12349c7-048f-4e10-d8f0-26a87f540440"
      },
      "source": [
        "train_setC, test_set = train_test_split(wine, train_size = .80, test_size = .20,random_state = 500)\n",
        "train_set = train_setC.drop(['cluster'],axis=1)\n",
        "train_setC"
      ],
      "execution_count": 14,
      "outputs": [
        {
          "output_type": "execute_result",
          "data": {
            "text/html": [
              "<div>\n",
              "<style scoped>\n",
              "    .dataframe tbody tr th:only-of-type {\n",
              "        vertical-align: middle;\n",
              "    }\n",
              "\n",
              "    .dataframe tbody tr th {\n",
              "        vertical-align: top;\n",
              "    }\n",
              "\n",
              "    .dataframe thead th {\n",
              "        text-align: right;\n",
              "    }\n",
              "</style>\n",
              "<table border=\"1\" class=\"dataframe\">\n",
              "  <thead>\n",
              "    <tr style=\"text-align: right;\">\n",
              "      <th></th>\n",
              "      <th>fixed acidity</th>\n",
              "      <th>volatile acidity</th>\n",
              "      <th>citric acid</th>\n",
              "      <th>residual sugar</th>\n",
              "      <th>chlorides</th>\n",
              "      <th>free sulfur dioxide</th>\n",
              "      <th>total sulfur dioxide</th>\n",
              "      <th>density</th>\n",
              "      <th>pH</th>\n",
              "      <th>sulphates</th>\n",
              "      <th>alcohol</th>\n",
              "      <th>quality</th>\n",
              "      <th>cluster</th>\n",
              "    </tr>\n",
              "  </thead>\n",
              "  <tbody>\n",
              "    <tr>\n",
              "      <th>982</th>\n",
              "      <td>7.3</td>\n",
              "      <td>0.520</td>\n",
              "      <td>0.32</td>\n",
              "      <td>2.1</td>\n",
              "      <td>0.070</td>\n",
              "      <td>51.0</td>\n",
              "      <td>70.0</td>\n",
              "      <td>0.99418</td>\n",
              "      <td>3.34</td>\n",
              "      <td>0.82</td>\n",
              "      <td>12.9</td>\n",
              "      <td>6</td>\n",
              "      <td>8</td>\n",
              "    </tr>\n",
              "    <tr>\n",
              "      <th>1276</th>\n",
              "      <td>8.5</td>\n",
              "      <td>0.400</td>\n",
              "      <td>0.40</td>\n",
              "      <td>6.3</td>\n",
              "      <td>0.050</td>\n",
              "      <td>3.0</td>\n",
              "      <td>10.0</td>\n",
              "      <td>0.99566</td>\n",
              "      <td>3.28</td>\n",
              "      <td>0.56</td>\n",
              "      <td>12.0</td>\n",
              "      <td>4</td>\n",
              "      <td>1</td>\n",
              "    </tr>\n",
              "    <tr>\n",
              "      <th>685</th>\n",
              "      <td>8.1</td>\n",
              "      <td>0.780</td>\n",
              "      <td>0.23</td>\n",
              "      <td>2.6</td>\n",
              "      <td>0.059</td>\n",
              "      <td>5.0</td>\n",
              "      <td>15.0</td>\n",
              "      <td>0.99700</td>\n",
              "      <td>3.37</td>\n",
              "      <td>0.56</td>\n",
              "      <td>11.3</td>\n",
              "      <td>5</td>\n",
              "      <td>5</td>\n",
              "    </tr>\n",
              "    <tr>\n",
              "      <th>1083</th>\n",
              "      <td>8.7</td>\n",
              "      <td>0.420</td>\n",
              "      <td>0.45</td>\n",
              "      <td>2.4</td>\n",
              "      <td>0.072</td>\n",
              "      <td>32.0</td>\n",
              "      <td>59.0</td>\n",
              "      <td>0.99617</td>\n",
              "      <td>3.33</td>\n",
              "      <td>0.77</td>\n",
              "      <td>12.0</td>\n",
              "      <td>6</td>\n",
              "      <td>4</td>\n",
              "    </tr>\n",
              "    <tr>\n",
              "      <th>630</th>\n",
              "      <td>8.7</td>\n",
              "      <td>0.540</td>\n",
              "      <td>0.26</td>\n",
              "      <td>2.5</td>\n",
              "      <td>0.097</td>\n",
              "      <td>7.0</td>\n",
              "      <td>31.0</td>\n",
              "      <td>0.99760</td>\n",
              "      <td>3.27</td>\n",
              "      <td>0.60</td>\n",
              "      <td>9.3</td>\n",
              "      <td>6</td>\n",
              "      <td>0</td>\n",
              "    </tr>\n",
              "    <tr>\n",
              "      <th>...</th>\n",
              "      <td>...</td>\n",
              "      <td>...</td>\n",
              "      <td>...</td>\n",
              "      <td>...</td>\n",
              "      <td>...</td>\n",
              "      <td>...</td>\n",
              "      <td>...</td>\n",
              "      <td>...</td>\n",
              "      <td>...</td>\n",
              "      <td>...</td>\n",
              "      <td>...</td>\n",
              "      <td>...</td>\n",
              "      <td>...</td>\n",
              "    </tr>\n",
              "    <tr>\n",
              "      <th>287</th>\n",
              "      <td>7.5</td>\n",
              "      <td>0.400</td>\n",
              "      <td>0.12</td>\n",
              "      <td>3.0</td>\n",
              "      <td>0.092</td>\n",
              "      <td>29.0</td>\n",
              "      <td>53.0</td>\n",
              "      <td>0.99670</td>\n",
              "      <td>3.37</td>\n",
              "      <td>0.70</td>\n",
              "      <td>10.3</td>\n",
              "      <td>6</td>\n",
              "      <td>2</td>\n",
              "    </tr>\n",
              "    <tr>\n",
              "      <th>957</th>\n",
              "      <td>9.5</td>\n",
              "      <td>0.370</td>\n",
              "      <td>0.52</td>\n",
              "      <td>2.0</td>\n",
              "      <td>0.088</td>\n",
              "      <td>12.0</td>\n",
              "      <td>51.0</td>\n",
              "      <td>0.99613</td>\n",
              "      <td>3.29</td>\n",
              "      <td>0.58</td>\n",
              "      <td>11.1</td>\n",
              "      <td>6</td>\n",
              "      <td>1</td>\n",
              "    </tr>\n",
              "    <tr>\n",
              "      <th>273</th>\n",
              "      <td>8.4</td>\n",
              "      <td>0.715</td>\n",
              "      <td>0.20</td>\n",
              "      <td>2.4</td>\n",
              "      <td>0.076</td>\n",
              "      <td>10.0</td>\n",
              "      <td>38.0</td>\n",
              "      <td>0.99735</td>\n",
              "      <td>3.31</td>\n",
              "      <td>0.64</td>\n",
              "      <td>9.4</td>\n",
              "      <td>5</td>\n",
              "      <td>0</td>\n",
              "    </tr>\n",
              "    <tr>\n",
              "      <th>951</th>\n",
              "      <td>8.3</td>\n",
              "      <td>0.280</td>\n",
              "      <td>0.48</td>\n",
              "      <td>2.1</td>\n",
              "      <td>0.093</td>\n",
              "      <td>6.0</td>\n",
              "      <td>12.0</td>\n",
              "      <td>0.99408</td>\n",
              "      <td>3.26</td>\n",
              "      <td>0.62</td>\n",
              "      <td>12.4</td>\n",
              "      <td>7</td>\n",
              "      <td>1</td>\n",
              "    </tr>\n",
              "    <tr>\n",
              "      <th>858</th>\n",
              "      <td>11.7</td>\n",
              "      <td>0.280</td>\n",
              "      <td>0.47</td>\n",
              "      <td>1.7</td>\n",
              "      <td>0.054</td>\n",
              "      <td>17.0</td>\n",
              "      <td>32.0</td>\n",
              "      <td>0.99686</td>\n",
              "      <td>3.15</td>\n",
              "      <td>0.67</td>\n",
              "      <td>10.6</td>\n",
              "      <td>7</td>\n",
              "      <td>7</td>\n",
              "    </tr>\n",
              "  </tbody>\n",
              "</table>\n",
              "<p>1279 rows × 13 columns</p>\n",
              "</div>"
            ],
            "text/plain": [
              "      fixed acidity  volatile acidity  citric acid  ...  alcohol  quality  cluster\n",
              "982             7.3             0.520         0.32  ...     12.9        6        8\n",
              "1276            8.5             0.400         0.40  ...     12.0        4        1\n",
              "685             8.1             0.780         0.23  ...     11.3        5        5\n",
              "1083            8.7             0.420         0.45  ...     12.0        6        4\n",
              "630             8.7             0.540         0.26  ...      9.3        6        0\n",
              "...             ...               ...          ...  ...      ...      ...      ...\n",
              "287             7.5             0.400         0.12  ...     10.3        6        2\n",
              "957             9.5             0.370         0.52  ...     11.1        6        1\n",
              "273             8.4             0.715         0.20  ...      9.4        5        0\n",
              "951             8.3             0.280         0.48  ...     12.4        7        1\n",
              "858            11.7             0.280         0.47  ...     10.6        7        7\n",
              "\n",
              "[1279 rows x 13 columns]"
            ]
          },
          "metadata": {
            "tags": []
          },
          "execution_count": 14
        }
      ]
    },
    {
      "cell_type": "code",
      "metadata": {
        "id": "lEVuwidmJ7n7",
        "colab_type": "code",
        "colab": {
          "base_uri": "https://localhost:8080/",
          "height": 153
        },
        "outputId": "47e8f743-ef9a-4167-ca45-7f8abaa8a8dd"
      },
      "source": [
        "#make a grid search for with and without the clusters#\n",
        "#Make a simple grid search for a decision tree with clusters#\n",
        "Vcluster_X = train_setC.drop(['quality'],axis=1)\n",
        "Vcluster_y = train_setC['quality']\n",
        "\n",
        "kap_scorer = make_scorer(cohen_kappa_score)\n",
        "DT_Clusters_cv = GridSearchCV(DecisionTreeClassifier(random_state=500), param_grid={'criterion': ['gini','entropy'], 'max_depth': [100,500,1000,1500,2000,2500,3000],\n",
        "                                                                    'splitter': ['best','random'], 'max_features':[None,'auto','log2']}, cv = 5, scoring = kap_scorer)\n",
        "DT_Clusters_cv.fit(Vcluster_X,Vcluster_y)\n",
        "print('Cluster Decision Tree')\n",
        "print(DT_Clusters_cv.best_params_)\n",
        "dt_clusterbest = DT_Clusters_cv.best_params_\n",
        "print(f'best score is {DT_Clusters_cv.best_score_:.3f}')\n",
        "print('_______________________________________________')\n",
        "print()\n",
        "#Make a simple grid search for decision tree without clusters#\n",
        "V_X = train_set.drop(['quality'],axis=1)\n",
        "V_y = train_set['quality']\n",
        "\n",
        "DT_cv = GridSearchCV(DecisionTreeClassifier(random_state=500), param_grid={'criterion': ['gini','entropy'], 'max_depth': [100,500,1000,1500,2000,2500,3000], \n",
        "                                                           'splitter': ['best','random'], 'max_features':[None, 'auto', 'log2']}, cv = 5, scoring = kap_scorer)\n",
        "DT_cv.fit(V_X,V_y)\n",
        "print('Normal Decision Tree')\n",
        "DTbest = DT_cv.best_params_\n",
        "print(DT_cv.best_params_)\n",
        "print(f'best score is {DT_cv.best_score_:.3f}')\n"
      ],
      "execution_count": 15,
      "outputs": [
        {
          "output_type": "stream",
          "text": [
            "Cluster Decision Tree\n",
            "{'criterion': 'gini', 'max_depth': 100, 'max_features': None, 'splitter': 'best'}\n",
            "best score is 0.394\n",
            "_______________________________________________\n",
            "\n",
            "Normal Decision Tree\n",
            "{'criterion': 'gini', 'max_depth': 100, 'max_features': None, 'splitter': 'best'}\n",
            "best score is 0.378\n"
          ],
          "name": "stdout"
        }
      ]
    },
    {
      "cell_type": "markdown",
      "metadata": {
        "id": "nB8i4UtDo8Hh",
        "colab_type": "text"
      },
      "source": [
        "## Fitting the Final Models and Evaluating Results"
      ]
    },
    {
      "cell_type": "markdown",
      "metadata": {
        "id": "iz60m2mrpdno",
        "colab_type": "text"
      },
      "source": [
        "Here I just fit the final models and generate some evaluation metrics using the optimized hyperperamters from before. Nothing special just standard scikit learn implementations"
      ]
    },
    {
      "cell_type": "code",
      "metadata": {
        "id": "4F-6FYw2Slwx",
        "colab_type": "code",
        "colab": {}
      },
      "source": [
        "### Make Final Models and Test Them#\n",
        "#split the test set#\n",
        "testX = test_set.drop(['quality'],axis=1)\n",
        "testX_nocluster=test_set.drop(['quality','cluster'],axis=1)\n",
        "testy = test_set['quality']\n",
        "\n",
        "\n",
        "#Fit both final models#\n",
        "FinalCluster_DT = DecisionTreeClassifier(criterion='gini',max_depth=100,max_features=None,splitter='best',random_state=500).fit(Vcluster_X,Vcluster_y)\n",
        "Final_DT = DecisionTreeClassifier(criterion='gini',max_depth=100, max_features=None, splitter = 'best',random_state=500).fit(V_X,V_y)\n",
        "\n",
        "Cluster_predict = FinalCluster_DT.predict(testX)\n",
        "DT_predict = Final_DT.predict(testX_nocluster)\n",
        "\n",
        "#Get accuracy scores#\n",
        "cluster_acc = accuracy_score(testy,Cluster_predict)\n",
        "DT_acc = accuracy_score(testy,DT_predict)\n",
        "\n",
        "cluster_kap = cohen_kappa_score(testy,Cluster_predict,weights='quadratic')\n",
        "DT_kap = cohen_kappa_score(testy, DT_predict)\n",
        "cluster_conf = confusion_matrix(testy,Cluster_predict)\n",
        "DT_conf = confusion_matrix(testy,DT_predict)"
      ],
      "execution_count": 23,
      "outputs": []
    },
    {
      "cell_type": "markdown",
      "metadata": {
        "id": "-2Q6NdVXzV67",
        "colab_type": "text"
      },
      "source": [
        "**Surprising Results:**\n",
        "\n",
        "The results for this project really surprised me. There were a lot of things that I would have considered a disadvantage given this task;\n",
        "\n",
        "Task definition: Predict wine quality on a six point scale\n",
        "\n",
        "Some disadvantages:\n",
        "* Six way classification, when I first learned machine learning methods I was taught a good rule of thumb was to simplify a task, bring down the dimensionality of data (through PCA or some other method) and make the classification binary if possible. Because this is a six way classification the task is monumentally harder.\n",
        "\n",
        "* Data set size, the data set size for the training set in this analysis is fairly small with only 1,279 instances and six possible labels I was uncertain if the classifier could learn anything at all.\n",
        "\n",
        "* Heavy disproportionality among the target labels, the target labels in the data sat are not only six in number but are way too far from equal (there are some mathematical methods to address this but I didn't use them). \n",
        "\n",
        "* The biggest disadvantage is a combination of the previous few points. A majority of the instances in the test set were either a 'five' or a 'six' rating. I doubt any human taste tester could come close to discerning the subtle difference between such labels, let alone classify those along with the possibility for others.\n",
        "\n",
        "* I was evaluating it using a single decision tree. Sometimes it is easy to forget how effective a single decision tree can be. Whenever I perform projects or academic research I often forgo the lolely single tree in favor of a random forest of some kind. This project brought my head out of the clouds and I will now include it in my model options because of its sheer effectiveness at such a difficult task."
      ]
    },
    {
      "cell_type": "code",
      "metadata": {
        "id": "iuVl2ny2WfUj",
        "colab_type": "code",
        "colab": {
          "base_uri": "https://localhost:8080/",
          "height": 119
        },
        "outputId": "fd857a16-dbc2-41b1-e0af-35961d35a267"
      },
      "source": [
        "print(test_set['quality'].value_counts()/len(test_set))"
      ],
      "execution_count": 17,
      "outputs": [
        {
          "output_type": "stream",
          "text": [
            "5    0.434375\n",
            "6    0.371875\n",
            "7    0.137500\n",
            "4    0.046875\n",
            "8    0.009375\n",
            "Name: quality, dtype: float64\n"
          ],
          "name": "stdout"
        }
      ]
    },
    {
      "cell_type": "markdown",
      "metadata": {
        "id": "hbLAp02E1DSa",
        "colab_type": "text"
      },
      "source": [
        "**Results:**\n",
        "\n",
        "The results below show how incredibly well this CART algorithim performed at the task. Using a wide variety of chemical features from the wines both algorithhims performed well above baseline and far above random guessing. I was really surprised at this and it really is a true testament to how strong machine learning can perform at some simple tasks such as this. The most impressive thing in my opinion is both classifiers ability to discern a 'five' from a 'six'. While it also had the most instances to learn from that was the most difficulty label instances and both feature methods proved successful.\n",
        "\n",
        "**The Winner:**\n",
        "\n",
        "Looking at the results below it is hard to say who a clear winner is. The decision tree with a cluster label inlcuded in its features performed slightly worse in accuracy but much better in a quadratically rated Cohen's Kappa Score. Meanwhile the normal decision tree really held its own. "
      ]
    },
    {
      "cell_type": "code",
      "metadata": {
        "id": "EuigGlm2X5BQ",
        "colab_type": "code",
        "colab": {
          "base_uri": "https://localhost:8080/",
          "height": 779
        },
        "outputId": "ec0a0732-e6bc-4171-d1d0-8a9a5bbe7f60"
      },
      "source": [
        "print('Results')\n",
        "print('______________________________________________')\n",
        "print('Test Set Statistics')\n",
        "print('Baseline Accuracy: 43.4%')\n",
        "print('Random Guessing: 20%')\n",
        "print('_____________________________________________')\n",
        "print('Cluster Feature Inclusion Results')\n",
        "print(f'Accuracy is {cluster_acc:.3f}')\n",
        "print(f'Kappa is {cluster_kap:.3f}')\n",
        "ConfusionMatrixDisplay(cluster_conf,display_labels=['','','5','6','7','']).plot(values_format = '4g',cmap='inferno')\n",
        "plt.show()\n",
        "print()\n",
        "print('_____________________________________________')\n",
        "print('Normal Decision Tree Results')\n",
        "print(f'Accuracy is {DT_acc:.3f}')\n",
        "print(f'Kappa is {DT_kap:.3f}')\n",
        "ConfusionMatrixDisplay(DT_conf,display_labels=['','','5','6','7','']).plot(values_format = '4g',cmap='inferno')\n",
        "plt.show()\n"
      ],
      "execution_count": 24,
      "outputs": [
        {
          "output_type": "stream",
          "text": [
            "Results\n",
            "______________________________________________\n",
            "Test Set Statistics\n",
            "Baseline Accuracy: 43.4%\n",
            "Random Guessing: 20%\n",
            "_____________________________________________\n",
            "Cluster Feature Inclusion Results\n",
            "Accuracy is 0.613\n",
            "Kappa is 0.538\n"
          ],
          "name": "stdout"
        },
        {
          "output_type": "display_data",
          "data": {
            "image/png": "[encoded data removed]",
            "text/plain": [
              "<Figure size 432x288 with 2 Axes>"
            ]
          },
          "metadata": {
            "tags": [],
            "needs_background": "light"
          }
        },
        {
          "output_type": "stream",
          "text": [
            "\n",
            "_____________________________________________\n",
            "Normal Decision Tree Results\n",
            "Accuracy is 0.634\n",
            "Kappa is 0.432\n"
          ],
          "name": "stdout"
        },
        {
          "output_type": "display_data",
          "data": {
            "image/png": "[encoded data removed]",
            "text/plain": [
              "<Figure size 432x288 with 2 Axes>"
            ]
          },
          "metadata": {
            "tags": [],
            "needs_background": "light"
          }
        }
      ]
    }
  ]
}